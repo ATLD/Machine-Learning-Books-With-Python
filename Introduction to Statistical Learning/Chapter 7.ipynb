{
 "cells": [
  {
   "cell_type": "markdown",
   "metadata": {},
   "source": [
    "# Introduction to Statistical Learning \n",
    "Introduction to Statistical Learning by Gareth James, Daniela Witten, Trevor Hastie and Robert Tibshirani is considered a canonical text in the field of statistical/machine learning and is an absolutely fantastic way to move forward in your analytics career. [The text is free to download](http://www-bcf.usc.edu/~gareth/ISL/) and an [online course by the authors themselves](https://lagunita.stanford.edu/courses/HumanitiesSciences/StatLearning/Winter2016/about) is currently available in self-pace mode, meaning you can complete it any time. Make sure to **[REGISTER FOR THE STANDFORD COURSE!](https://lagunita.stanford.edu/courses/HumanitiesSciences/StatLearning/Winter2016/about)** The videos have also been [archived here on youtube](http://www.r-bloggers.com/in-depth-introduction-to-machine-learning-in-15-hours-of-expert-videos/).\n",
    "\n",
    "# How will Houston Data Science cover the course?\n",
    "The Stanford online course covers the entire book in 9 weeks and with the R programming language. The pace that we cover the book is yet to be determined as there are many unknown variables such as interest from members, availability of a venue and general level of skills of those participating. That said, a meeting once per week to discuss the current chapter or previous chapter solutions is the target.\n",
    "\n",
    "\n",
    "# Python in place of R\n",
    "Although R is a fantastic programming language and is the language that all the ISLR labs are written in, the Python programming language, except for rare exceptions, contains analgous libraries that contain the same statistical functionality as those in R.\n",
    "\n",
    "# Notes, Exercises and Programming Assignments all in the Jupyter Notebok\n",
    "ISLR has both end of chapter problems and programming assignments. All chapter problems and programming assignments will be answered in the notebook.\n",
    "\n",
    "# Replicating Plots\n",
    "The plots in ISLR are created in R. Many of them will be replicated here in the notebook when they appear in the text\n",
    "\n",
    "# Book Data\n",
    "The data from the books was downloaded using R. All the datasets are found in either the MASS or ISLR packages. They are now in the data directory. See below"
   ]
  },
  {
   "cell_type": "code",
   "execution_count": 1,
   "metadata": {
    "collapsed": false
   },
   "outputs": [
    {
     "name": "stdout",
     "output_type": "stream",
     "text": [
      "\u001b[31mAdvertising.csv\u001b[m\u001b[m caravan.csv     hitters.csv     khan_ytrain.csv smarket.csv\r\n",
      "Credit.csv      carseats.csv    khan_xtest.csv  nci60_data.csv  usarrests.csv\r\n",
      "auto.csv        college.csv     khan_xtrain.csv nci60_labs.csv  \u001b[31mwage.csv\u001b[m\u001b[m\r\n",
      "boston.csv      default.csv     khan_ytest.csv  portfolio.csv   weekly.csv\r\n"
     ]
    }
   ],
   "source": [
    "!ls data"
   ]
  },
  {
   "cell_type": "markdown",
   "metadata": {},
   "source": [
    "# ISLR Videos\n",
    "[All Old Videos](https://www.r-bloggers.com/in-depth-introduction-to-machine-learning-in-15-hours-of-expert-videos/)"
   ]
  },
  {
   "cell_type": "markdown",
   "metadata": {},
   "source": [
    "# Chapter 7 Moving Beyond Linearity\n",
    "Linearity is almost always an approximation, need more flexible models.\n",
    "\n",
    "## Polynomial Regression\n",
    "Extend linear model with polynomial terms. It's still a linear model but can model non-linear data. Usually don't use polynomial terms higher than degree 3 or 4.\n",
    "\n",
    "## Step Functions\n",
    "Cut X into K different regions and fit a constant to each region. The model reduces to $\\hat{y} = \\beta_0 + \\beta_k$ where k is the kth region. $\\beta_0$ is just the estimate for y (the mean) in the region before the first cut point. Can use same approach for logistic regression to get a flat probability estimate for each region.\n",
    "\n",
    "## Basis functions\n",
    "Polynomial terms and step function are both types of basis functions. A basis function is a function that transforms X. For polynomial regression, this is simply raising X to a power and for step functions this is transforming X into 0 or 1 based on whether X is in a region or not (indicator variable). Wavelets and fourier series are also basis functions.\n",
    "\n",
    "## Regression Splines\n",
    "Combining piecewise functions and polynomial regression\n",
    "### Piecewise polynomials\n",
    "Fit low degree polynomials over different regions of X. The place where the region ends are called knots. Without constraints the many pieces will not connect - be continuous. \n",
    "### Splines\n",
    "Piecewise polynomials with constraints that the curves be continuous and smooth - meaning both first and second derivatives must match at the knot. Fitting a spline turns out to be surprisingly simpler than it seems. We don't have to fit a 3 degree polynomial for each region. By smartly choosing basis functions, we can use least squares to solve for all the coefficients. We use the truncated power basis function which is $h(x, \\xi) = (x -\\xi)^3, x > \\xi$ and 0 otherwise. Each $\\xi$ is a knot.\n",
    "\n",
    "The equation to send to least squares is $\\hat{y} = \\beta_0 + \\beta_1X + \\beta_2X^2 + \\beta_3X^3 +  h(x, \\xi_k) + ...$ where we have K truncated power tranformations for a total of K + 4 predictors.\n",
    "\n",
    "### How to choose K?\n",
    "Cross validation\n",
    "\n",
    "### Splines vs polynomical regression\n",
    "Splines generally do better. A complex fit can still be fit well with a 3 degree spline but it could take a very high degree polynomial to do the same and with worse variance.\n",
    "\n",
    "## Smoothing splines\n",
    "Finding a function that minimizes RSS but that is 'smooth'. Smoothness here is defined as having a relatively stable second derivative. Use a penalty term on the sum (integral) of the squared second derivative. We want smoothness, ie. stable second derivative. \n",
    "\n",
    "The function that minimizes this error is a natural cubic spline with knots at each unique value of x but with shrunken parameter estimates due to the penalty term. The smoothing parameter is very important to control variance. Choose smoothing parameter with CV.\n",
    "\n",
    "## Local Regression\n",
    "Fits a new regression line to each point by using the nearest neighbors of that point. It uses weighted least squares, weighing points at the boundary and beyond 0 and points in the boundary a decreasing function of its distance to the point. Usually, small degree polynomials are fit to these local points. Need to choose weight function and span of points. Larger span of points the smoother function you will get.\n",
    "\n",
    "Can even do local regression with pairs or more of variables but because of the curse of dimensionality, there might not be enough neighbors.\n",
    "\n",
    "## General Additive Models\n",
    "The above models all relate to single variable predictions. GAMs simply add different linear models above (like the ones above) for different variables in the model, allowing for multivariate regression/classification. Each variable gets its own model and is added together. Each own model is a building block for a GAM.\n",
    "\n",
    "## Multivariate Adaptive Regression Splines\n",
    "https://en.wikipedia.org/wiki/Multivariate_adaptive_regression_splines"
   ]
  },
  {
   "cell_type": "markdown",
   "metadata": {},
   "source": [
    "# Lab 7.8.1\n",
    "Recreating plot 7.1"
   ]
  },
  {
   "cell_type": "code",
   "execution_count": 2,
   "metadata": {
    "collapsed": true
   },
   "outputs": [],
   "source": [
    "import pandas as pd\n",
    "import numpy as np"
   ]
  },
  {
   "cell_type": "code",
   "execution_count": 3,
   "metadata": {
    "collapsed": true
   },
   "outputs": [],
   "source": [
    "wage = pd.read_csv(\"data/wage.csv\")"
   ]
  },
  {
   "cell_type": "code",
   "execution_count": 20,
   "metadata": {
    "collapsed": false
   },
   "outputs": [],
   "source": [
    "# Use sklearn to get regression coefficients\n",
    "from sklearn.preprocessing import PolynomialFeatures\n",
    "from sklearn.linear_model import LinearRegression"
   ]
  },
  {
   "cell_type": "code",
   "execution_count": 34,
   "metadata": {
    "collapsed": true
   },
   "outputs": [],
   "source": [
    "poly = PolynomialFeatures(degree=4, include_bias=False)"
   ]
  },
  {
   "cell_type": "code",
   "execution_count": 35,
   "metadata": {
    "collapsed": true
   },
   "outputs": [],
   "source": [
    "X = wage[['age']]\n",
    "y = wage['wage']"
   ]
  },
  {
   "cell_type": "code",
   "execution_count": 36,
   "metadata": {
    "collapsed": false
   },
   "outputs": [],
   "source": [
    "model = LinearRegression()"
   ]
  },
  {
   "cell_type": "code",
   "execution_count": 37,
   "metadata": {
    "collapsed": false
   },
   "outputs": [
    {
     "data": {
      "text/plain": [
       "LinearRegression(copy_X=True, fit_intercept=True, n_jobs=1, normalize=False)"
      ]
     },
     "execution_count": 37,
     "metadata": {},
     "output_type": "execute_result"
    }
   ],
   "source": [
    "model.fit(poly.fit_transform(X), y)"
   ]
  },
  {
   "cell_type": "code",
   "execution_count": 41,
   "metadata": {
    "collapsed": false
   },
   "outputs": [
    {
     "data": {
      "text/plain": [
       "(-184.15417977414711,\n",
       " array([  2.12455205e+01,  -5.63859313e-01,   6.81068771e-03,\n",
       "         -3.20383037e-05]))"
      ]
     },
     "execution_count": 41,
     "metadata": {},
     "output_type": "execute_result"
    }
   ],
   "source": [
    "# Coefficients are the same as in ISLR\n",
    "model.intercept_, model.coef_"
   ]
  },
  {
   "cell_type": "code",
   "execution_count": 40,
   "metadata": {
    "collapsed": false
   },
   "outputs": [
    {
     "data": {
      "text/plain": [
       "-184.15417977414711"
      ]
     },
     "execution_count": 40,
     "metadata": {},
     "output_type": "execute_result"
    }
   ],
   "source": [
    "model.intercept_"
   ]
  },
  {
   "cell_type": "markdown",
   "metadata": {},
   "source": [
    "### Standard error in  Scikit-learn\n",
    "Sklearn doesn't supply the standard error so you'll have to write the formula yourself or use statsmodels"
   ]
  },
  {
   "cell_type": "code",
   "execution_count": 42,
   "metadata": {
    "collapsed": true
   },
   "outputs": [],
   "source": [
    "import statsmodels.formula.api as smf"
   ]
  },
  {
   "cell_type": "code",
   "execution_count": 47,
   "metadata": {
    "collapsed": false
   },
   "outputs": [],
   "source": [
    "results = smf.ols('wage ~ age + np.power(age, 2) + np.power(age, 3) + np.power(age, 4)', data=wage).fit()"
   ]
  },
  {
   "cell_type": "code",
   "execution_count": 48,
   "metadata": {
    "collapsed": false
   },
   "outputs": [
    {
     "data": {
      "text/html": [
       "<table class=\"simpletable\">\n",
       "<caption>OLS Regression Results</caption>\n",
       "<tr>\n",
       "  <th>Dep. Variable:</th>          <td>wage</td>       <th>  R-squared:         </th> <td>   0.086</td> \n",
       "</tr>\n",
       "<tr>\n",
       "  <th>Model:</th>                   <td>OLS</td>       <th>  Adj. R-squared:    </th> <td>   0.085</td> \n",
       "</tr>\n",
       "<tr>\n",
       "  <th>Method:</th>             <td>Least Squares</td>  <th>  F-statistic:       </th> <td>   70.69</td> \n",
       "</tr>\n",
       "<tr>\n",
       "  <th>Date:</th>             <td>Tue, 13 Sep 2016</td> <th>  Prob (F-statistic):</th> <td>2.77e-57</td> \n",
       "</tr>\n",
       "<tr>\n",
       "  <th>Time:</th>                 <td>17:02:25</td>     <th>  Log-Likelihood:    </th> <td> -15315.</td> \n",
       "</tr>\n",
       "<tr>\n",
       "  <th>No. Observations:</th>      <td>  3000</td>      <th>  AIC:               </th> <td>3.064e+04</td>\n",
       "</tr>\n",
       "<tr>\n",
       "  <th>Df Residuals:</th>          <td>  2995</td>      <th>  BIC:               </th> <td>3.067e+04</td>\n",
       "</tr>\n",
       "<tr>\n",
       "  <th>Df Model:</th>              <td>     4</td>      <th>                     </th>     <td> </td>    \n",
       "</tr>\n",
       "<tr>\n",
       "  <th>Covariance Type:</th>      <td>nonrobust</td>    <th>                     </th>     <td> </td>    \n",
       "</tr>\n",
       "</table>\n",
       "<table class=\"simpletable\">\n",
       "<tr>\n",
       "          <td></td>            <th>coef</th>     <th>std err</th>      <th>t</th>      <th>P>|t|</th> <th>[95.0% Conf. Int.]</th> \n",
       "</tr>\n",
       "<tr>\n",
       "  <th>Intercept</th>        <td> -184.1542</td> <td>   60.040</td> <td>   -3.067</td> <td> 0.002</td> <td> -301.879   -66.430</td>\n",
       "</tr>\n",
       "<tr>\n",
       "  <th>age</th>              <td>   21.2455</td> <td>    5.887</td> <td>    3.609</td> <td> 0.000</td> <td>    9.703    32.788</td>\n",
       "</tr>\n",
       "<tr>\n",
       "  <th>np.power(age, 2)</th> <td>   -0.5639</td> <td>    0.206</td> <td>   -2.736</td> <td> 0.006</td> <td>   -0.968    -0.160</td>\n",
       "</tr>\n",
       "<tr>\n",
       "  <th>np.power(age, 3)</th> <td>    0.0068</td> <td>    0.003</td> <td>    2.221</td> <td> 0.026</td> <td>    0.001     0.013</td>\n",
       "</tr>\n",
       "<tr>\n",
       "  <th>np.power(age, 4)</th> <td>-3.204e-05</td> <td> 1.64e-05</td> <td>   -1.952</td> <td> 0.051</td> <td>-6.42e-05  1.45e-07</td>\n",
       "</tr>\n",
       "</table>\n",
       "<table class=\"simpletable\">\n",
       "<tr>\n",
       "  <th>Omnibus:</th>       <td>1097.594</td> <th>  Durbin-Watson:     </th> <td>   1.960</td>\n",
       "</tr>\n",
       "<tr>\n",
       "  <th>Prob(Omnibus):</th>  <td> 0.000</td>  <th>  Jarque-Bera (JB):  </th> <td>4965.521</td>\n",
       "</tr>\n",
       "<tr>\n",
       "  <th>Skew:</th>           <td> 1.722</td>  <th>  Prob(JB):          </th> <td>    0.00</td>\n",
       "</tr>\n",
       "<tr>\n",
       "  <th>Kurtosis:</th>       <td> 8.279</td>  <th>  Cond. No.          </th> <td>5.67e+08</td>\n",
       "</tr>\n",
       "</table>"
      ],
      "text/plain": [
       "<class 'statsmodels.iolib.summary.Summary'>\n",
       "\"\"\"\n",
       "                            OLS Regression Results                            \n",
       "==============================================================================\n",
       "Dep. Variable:                   wage   R-squared:                       0.086\n",
       "Model:                            OLS   Adj. R-squared:                  0.085\n",
       "Method:                 Least Squares   F-statistic:                     70.69\n",
       "Date:                Tue, 13 Sep 2016   Prob (F-statistic):           2.77e-57\n",
       "Time:                        17:02:25   Log-Likelihood:                -15315.\n",
       "No. Observations:                3000   AIC:                         3.064e+04\n",
       "Df Residuals:                    2995   BIC:                         3.067e+04\n",
       "Df Model:                           4                                         \n",
       "Covariance Type:            nonrobust                                         \n",
       "====================================================================================\n",
       "                       coef    std err          t      P>|t|      [95.0% Conf. Int.]\n",
       "------------------------------------------------------------------------------------\n",
       "Intercept         -184.1542     60.040     -3.067      0.002      -301.879   -66.430\n",
       "age                 21.2455      5.887      3.609      0.000         9.703    32.788\n",
       "np.power(age, 2)    -0.5639      0.206     -2.736      0.006        -0.968    -0.160\n",
       "np.power(age, 3)     0.0068      0.003      2.221      0.026         0.001     0.013\n",
       "np.power(age, 4) -3.204e-05   1.64e-05     -1.952      0.051     -6.42e-05  1.45e-07\n",
       "==============================================================================\n",
       "Omnibus:                     1097.594   Durbin-Watson:                   1.960\n",
       "Prob(Omnibus):                  0.000   Jarque-Bera (JB):             4965.521\n",
       "Skew:                           1.722   Prob(JB):                         0.00\n",
       "Kurtosis:                       8.279   Cond. No.                     5.67e+08\n",
       "==============================================================================\n",
       "\n",
       "Warnings:\n",
       "[1] Standard Errors assume that the covariance matrix of the errors is correctly specified.\n",
       "[2] The condition number is large, 5.67e+08. This might indicate that there are\n",
       "strong multicollinearity or other numerical problems.\n",
       "\"\"\""
      ]
     },
     "execution_count": 48,
     "metadata": {},
     "output_type": "execute_result"
    }
   ],
   "source": [
    "results.summary()"
   ]
  },
  {
   "cell_type": "code",
   "execution_count": 49,
   "metadata": {
    "collapsed": false
   },
   "outputs": [
    {
     "data": {
      "text/plain": [
       "Intercept           60.040377\n",
       "age                  5.886748\n",
       "np.power(age, 2)     0.206108\n",
       "np.power(age, 3)     0.003066\n",
       "np.power(age, 4)     0.000016\n",
       "dtype: float64"
      ]
     },
     "execution_count": 49,
     "metadata": {},
     "output_type": "execute_result"
    }
   ],
   "source": [
    "results.bse"
   ]
  },
  {
   "cell_type": "code",
   "execution_count": 51,
   "metadata": {
    "collapsed": false
   },
   "outputs": [
    {
     "data": {
      "text/html": [
       "<div>\n",
       "<table border=\"1\" class=\"dataframe\">\n",
       "  <thead>\n",
       "    <tr style=\"text-align: right;\">\n",
       "      <th></th>\n",
       "      <th>0</th>\n",
       "      <th>1</th>\n",
       "    </tr>\n",
       "  </thead>\n",
       "  <tbody>\n",
       "    <tr>\n",
       "      <th>Intercept</th>\n",
       "      <td>-301.878732</td>\n",
       "      <td>-6.642963e+01</td>\n",
       "    </tr>\n",
       "    <tr>\n",
       "      <th>age</th>\n",
       "      <td>9.703041</td>\n",
       "      <td>3.278800e+01</td>\n",
       "    </tr>\n",
       "    <tr>\n",
       "      <th>np.power(age, 2)</th>\n",
       "      <td>-0.967987</td>\n",
       "      <td>-1.597312e-01</td>\n",
       "    </tr>\n",
       "    <tr>\n",
       "      <th>np.power(age, 3)</th>\n",
       "      <td>0.000799</td>\n",
       "      <td>1.282223e-02</td>\n",
       "    </tr>\n",
       "    <tr>\n",
       "      <th>np.power(age, 4)</th>\n",
       "      <td>-0.000064</td>\n",
       "      <td>1.447431e-07</td>\n",
       "    </tr>\n",
       "  </tbody>\n",
       "</table>\n",
       "</div>"
      ],
      "text/plain": [
       "                           0             1\n",
       "Intercept        -301.878732 -6.642963e+01\n",
       "age                 9.703041  3.278800e+01\n",
       "np.power(age, 2)   -0.967987 -1.597312e-01\n",
       "np.power(age, 3)    0.000799  1.282223e-02\n",
       "np.power(age, 4)   -0.000064  1.447431e-07"
      ]
     },
     "execution_count": 51,
     "metadata": {},
     "output_type": "execute_result"
    }
   ],
   "source": [
    "results.conf_int()"
   ]
  },
  {
   "cell_type": "markdown",
   "metadata": {},
   "source": [
    "### Confidence interval for the mean\n",
    "There are different confidence intervals for the mean (the regression line) and prediction. Prediction intervals are going to be much wider. The regression line will not wiggle around so much"
   ]
  },
  {
   "cell_type": "code",
   "execution_count": 54,
   "metadata": {
    "collapsed": false
   },
   "outputs": [],
   "source": [
    "from statsmodels.stats.outliers_influence import summary_table"
   ]
  },
  {
   "cell_type": "code",
   "execution_count": 55,
   "metadata": {
    "collapsed": true
   },
   "outputs": [],
   "source": [
    "st, data, ss2 = summary_table(results, alpha=0.05)"
   ]
  },
  {
   "cell_type": "code",
   "execution_count": 58,
   "metadata": {
    "collapsed": true
   },
   "outputs": [],
   "source": [
    "fittedvalues = data[:,2]\n",
    "predict_mean_se  = data[:,3]\n",
    "predict_mean_ci_low, predict_mean_ci_upp = data[:,4:6].T"
   ]
  },
  {
   "cell_type": "code",
   "execution_count": 93,
   "metadata": {
    "collapsed": false
   },
   "outputs": [],
   "source": [
    "order = np.argsort(X.values.flatten())\n",
    "x_o = X.values.flatten()[order]"
   ]
  },
  {
   "cell_type": "code",
   "execution_count": 90,
   "metadata": {
    "collapsed": true
   },
   "outputs": [],
   "source": [
    "import matplotlib.pyplot as plt\n",
    "%matplotlib inline"
   ]
  },
  {
   "cell_type": "code",
   "execution_count": 102,
   "metadata": {
    "collapsed": false
   },
   "outputs": [
    {
     "data": {
      "text/plain": [
       "[<matplotlib.lines.Line2D at 0x11f016160>]"
      ]
     },
     "execution_count": 102,
     "metadata": {},
     "output_type": "execute_result"
    },
    {
     "data": {
      "image/png": "[encoded data removed]",
      "text/plain": [
       "<matplotlib.figure.Figure at 0x11efd9e80>"
      ]
     },
     "metadata": {},
     "output_type": "display_data"
    }
   ],
   "source": [
    "plt.figure(figsize=(10, 8))\n",
    "plt.scatter(x_o, y[order])\n",
    "plt.plot(x_o, fittedvalues[order], 'r', lw=2)\n",
    "plt.plot(x_o, predict_mean_ci_low[order], 'r--', lw=2)\n",
    "plt.plot(x_o, predict_mean_ci_upp[order], 'r--', lw=2)"
   ]
  },
  {
   "cell_type": "code",
   "execution_count": 107,
   "metadata": {
    "collapsed": false
   },
   "outputs": [
    {
     "data": {
      "text/html": [
       "<table class=\"simpletable\">\n",
       "<caption>OLS Regression Results</caption>\n",
       "<tr>\n",
       "  <th>Dep. Variable:</th>          <td>wage</td>       <th>  R-squared:         </th> <td>   0.086</td> \n",
       "</tr>\n",
       "<tr>\n",
       "  <th>Model:</th>                   <td>OLS</td>       <th>  Adj. R-squared:    </th> <td>   0.085</td> \n",
       "</tr>\n",
       "<tr>\n",
       "  <th>Method:</th>             <td>Least Squares</td>  <th>  F-statistic:       </th> <td>   70.69</td> \n",
       "</tr>\n",
       "<tr>\n",
       "  <th>Date:</th>             <td>Tue, 13 Sep 2016</td> <th>  Prob (F-statistic):</th> <td>2.77e-57</td> \n",
       "</tr>\n",
       "<tr>\n",
       "  <th>Time:</th>                 <td>17:37:50</td>     <th>  Log-Likelihood:    </th> <td> -15315.</td> \n",
       "</tr>\n",
       "<tr>\n",
       "  <th>No. Observations:</th>      <td>  3000</td>      <th>  AIC:               </th> <td>3.064e+04</td>\n",
       "</tr>\n",
       "<tr>\n",
       "  <th>Df Residuals:</th>          <td>  2995</td>      <th>  BIC:               </th> <td>3.067e+04</td>\n",
       "</tr>\n",
       "<tr>\n",
       "  <th>Df Model:</th>              <td>     4</td>      <th>                     </th>     <td> </td>    \n",
       "</tr>\n",
       "<tr>\n",
       "  <th>Covariance Type:</th>      <td>nonrobust</td>    <th>                     </th>     <td> </td>    \n",
       "</tr>\n",
       "</table>\n",
       "<table class=\"simpletable\">\n",
       "<tr>\n",
       "          <td></td>            <th>coef</th>     <th>std err</th>      <th>t</th>      <th>P>|t|</th> <th>[95.0% Conf. Int.]</th> \n",
       "</tr>\n",
       "<tr>\n",
       "  <th>Intercept</th>        <td> -184.1542</td> <td>   60.040</td> <td>   -3.067</td> <td> 0.002</td> <td> -301.879   -66.430</td>\n",
       "</tr>\n",
       "<tr>\n",
       "  <th>age</th>              <td>   21.2455</td> <td>    5.887</td> <td>    3.609</td> <td> 0.000</td> <td>    9.703    32.788</td>\n",
       "</tr>\n",
       "<tr>\n",
       "  <th>np.power(age, 2)</th> <td>   -0.5639</td> <td>    0.206</td> <td>   -2.736</td> <td> 0.006</td> <td>   -0.968    -0.160</td>\n",
       "</tr>\n",
       "<tr>\n",
       "  <th>np.power(age, 3)</th> <td>    0.0068</td> <td>    0.003</td> <td>    2.221</td> <td> 0.026</td> <td>    0.001     0.013</td>\n",
       "</tr>\n",
       "<tr>\n",
       "  <th>np.power(age, 4)</th> <td>-3.204e-05</td> <td> 1.64e-05</td> <td>   -1.952</td> <td> 0.051</td> <td>-6.42e-05  1.45e-07</td>\n",
       "</tr>\n",
       "</table>\n",
       "<table class=\"simpletable\">\n",
       "<tr>\n",
       "  <th>Omnibus:</th>       <td>1097.594</td> <th>  Durbin-Watson:     </th> <td>   1.960</td>\n",
       "</tr>\n",
       "<tr>\n",
       "  <th>Prob(Omnibus):</th>  <td> 0.000</td>  <th>  Jarque-Bera (JB):  </th> <td>4965.521</td>\n",
       "</tr>\n",
       "<tr>\n",
       "  <th>Skew:</th>           <td> 1.722</td>  <th>  Prob(JB):          </th> <td>    0.00</td>\n",
       "</tr>\n",
       "<tr>\n",
       "  <th>Kurtosis:</th>       <td> 8.279</td>  <th>  Cond. No.          </th> <td>5.67e+08</td>\n",
       "</tr>\n",
       "</table>"
      ],
      "text/plain": [
       "<class 'statsmodels.iolib.summary.Summary'>\n",
       "\"\"\"\n",
       "                            OLS Regression Results                            \n",
       "==============================================================================\n",
       "Dep. Variable:                   wage   R-squared:                       0.086\n",
       "Model:                            OLS   Adj. R-squared:                  0.085\n",
       "Method:                 Least Squares   F-statistic:                     70.69\n",
       "Date:                Tue, 13 Sep 2016   Prob (F-statistic):           2.77e-57\n",
       "Time:                        17:37:50   Log-Likelihood:                -15315.\n",
       "No. Observations:                3000   AIC:                         3.064e+04\n",
       "Df Residuals:                    2995   BIC:                         3.067e+04\n",
       "Df Model:                           4                                         \n",
       "Covariance Type:            nonrobust                                         \n",
       "====================================================================================\n",
       "                       coef    std err          t      P>|t|      [95.0% Conf. Int.]\n",
       "------------------------------------------------------------------------------------\n",
       "Intercept         -184.1542     60.040     -3.067      0.002      -301.879   -66.430\n",
       "age                 21.2455      5.887      3.609      0.000         9.703    32.788\n",
       "np.power(age, 2)    -0.5639      0.206     -2.736      0.006        -0.968    -0.160\n",
       "np.power(age, 3)     0.0068      0.003      2.221      0.026         0.001     0.013\n",
       "np.power(age, 4) -3.204e-05   1.64e-05     -1.952      0.051     -6.42e-05  1.45e-07\n",
       "==============================================================================\n",
       "Omnibus:                     1097.594   Durbin-Watson:                   1.960\n",
       "Prob(Omnibus):                  0.000   Jarque-Bera (JB):             4965.521\n",
       "Skew:                           1.722   Prob(JB):                         0.00\n",
       "Kurtosis:                       8.279   Cond. No.                     5.67e+08\n",
       "==============================================================================\n",
       "\n",
       "Warnings:\n",
       "[1] Standard Errors assume that the covariance matrix of the errors is correctly specified.\n",
       "[2] The condition number is large, 5.67e+08. This might indicate that there are\n",
       "strong multicollinearity or other numerical problems.\n",
       "\"\"\""
      ]
     },
     "execution_count": 107,
     "metadata": {},
     "output_type": "execute_result"
    }
   ],
   "source": [
    "# Which features are necessary\n",
    "smf.ols('wage ~ age + np.power(age, 2) + np.power(age, 3) + np.power(age, 4)', data=wage).fit().summary()"
   ]
  },
  {
   "cell_type": "code",
   "execution_count": 108,
   "metadata": {
    "collapsed": true
   },
   "outputs": [],
   "source": [
    "from statsmodels.stats.api import anova_lm"
   ]
  },
  {
   "cell_type": "markdown",
   "metadata": {},
   "source": [
    "# Use Anova to test wheter each additional polynomial term is significant\n",
    "Models must be nested here, meaning that mod2 must be a superset of mod1"
   ]
  },
  {
   "cell_type": "code",
   "execution_count": 117,
   "metadata": {
    "collapsed": true
   },
   "outputs": [],
   "source": [
    "mod1 = smf.ols('wage ~ age', data=wage).fit()\n",
    "mod2 = smf.ols('wage ~ age + np.power(age, 2)', data=wage).fit()\n",
    "mod3 = smf.ols('wage ~ age + np.power(age, 2) + np.power(age, 3)', data=wage).fit()\n",
    "mod4 = smf.ols('wage ~ age + np.power(age, 2) + np.power(age, 3) + np.power(age, 4)', data=wage).fit()\n",
    "mod5 = smf.ols('wage ~ age + np.power(age, 2) + np.power(age, 3) + np.power(age, 4) + np.power(age, 5)', data=wage).fit()"
   ]
  },
  {
   "cell_type": "code",
   "execution_count": 116,
   "metadata": {
    "collapsed": false
   },
   "outputs": [
    {
     "data": {
      "text/html": [
       "<div>\n",
       "<table border=\"1\" class=\"dataframe\">\n",
       "  <thead>\n",
       "    <tr style=\"text-align: right;\">\n",
       "      <th></th>\n",
       "      <th>df_resid</th>\n",
       "      <th>ssr</th>\n",
       "      <th>df_diff</th>\n",
       "      <th>ss_diff</th>\n",
       "      <th>F</th>\n",
       "      <th>Pr(&gt;F)</th>\n",
       "    </tr>\n",
       "  </thead>\n",
       "  <tbody>\n",
       "    <tr>\n",
       "      <th>0</th>\n",
       "      <td>2998.0</td>\n",
       "      <td>5.022216e+06</td>\n",
       "      <td>0.0</td>\n",
       "      <td>NaN</td>\n",
       "      <td>NaN</td>\n",
       "      <td>NaN</td>\n",
       "    </tr>\n",
       "    <tr>\n",
       "      <th>1</th>\n",
       "      <td>2997.0</td>\n",
       "      <td>4.793430e+06</td>\n",
       "      <td>1.0</td>\n",
       "      <td>228786.010128</td>\n",
       "      <td>143.593107</td>\n",
       "      <td>2.363850e-32</td>\n",
       "    </tr>\n",
       "    <tr>\n",
       "      <th>2</th>\n",
       "      <td>2996.0</td>\n",
       "      <td>4.777674e+06</td>\n",
       "      <td>1.0</td>\n",
       "      <td>15755.693664</td>\n",
       "      <td>9.888756</td>\n",
       "      <td>1.679202e-03</td>\n",
       "    </tr>\n",
       "    <tr>\n",
       "      <th>3</th>\n",
       "      <td>2995.0</td>\n",
       "      <td>4.771604e+06</td>\n",
       "      <td>1.0</td>\n",
       "      <td>6070.152124</td>\n",
       "      <td>3.809813</td>\n",
       "      <td>5.104620e-02</td>\n",
       "    </tr>\n",
       "    <tr>\n",
       "      <th>4</th>\n",
       "      <td>2994.0</td>\n",
       "      <td>4.770322e+06</td>\n",
       "      <td>1.0</td>\n",
       "      <td>1282.563017</td>\n",
       "      <td>0.804976</td>\n",
       "      <td>3.696820e-01</td>\n",
       "    </tr>\n",
       "  </tbody>\n",
       "</table>\n",
       "</div>"
      ],
      "text/plain": [
       "   df_resid           ssr  df_diff        ss_diff           F        Pr(>F)\n",
       "0    2998.0  5.022216e+06      0.0            NaN         NaN           NaN\n",
       "1    2997.0  4.793430e+06      1.0  228786.010128  143.593107  2.363850e-32\n",
       "2    2996.0  4.777674e+06      1.0   15755.693664    9.888756  1.679202e-03\n",
       "3    2995.0  4.771604e+06      1.0    6070.152124    3.809813  5.104620e-02\n",
       "4    2994.0  4.770322e+06      1.0    1282.563017    0.804976  3.696820e-01"
      ]
     },
     "execution_count": 116,
     "metadata": {},
     "output_type": "execute_result"
    }
   ],
   "source": [
    "# Same as ISLR\n",
    "# polynomial terms 4 and 5 are not needed. p > .05\n",
    "anova_lm(mod1, mod2, mod3, mod4, mod5)"
   ]
  },
  {
   "cell_type": "markdown",
   "metadata": {},
   "source": [
    "# Logistic regression\n",
    "Prediciton of greater than 250k in income"
   ]
  },
  {
   "cell_type": "code",
   "execution_count": 120,
   "metadata": {
    "collapsed": false
   },
   "outputs": [],
   "source": [
    "wage['wage_250'] = (wage['wage'] > 250) * 1"
   ]
  },
  {
   "cell_type": "code",
   "execution_count": 269,
   "metadata": {
    "collapsed": false
   },
   "outputs": [
    {
     "name": "stdout",
     "output_type": "stream",
     "text": [
      "Optimization terminated successfully.\n",
      "         Current function value: 0.116870\n",
      "         Iterations 12\n"
     ]
    }
   ],
   "source": [
    "results = smf.logit('wage_250 ~ age + np.power(age, 2) + np.power(age, 3) + np.power(age, 4)', data=wage).fit()"
   ]
  },
  {
   "cell_type": "code",
   "execution_count": 270,
   "metadata": {
    "collapsed": false
   },
   "outputs": [
    {
     "data": {
      "text/html": [
       "<table class=\"simpletable\">\n",
       "<caption>Logit Regression Results</caption>\n",
       "<tr>\n",
       "  <th>Dep. Variable:</th>     <td>wage_250</td>     <th>  No. Observations:  </th>  <td>  3000</td>  \n",
       "</tr>\n",
       "<tr>\n",
       "  <th>Model:</th>               <td>Logit</td>      <th>  Df Residuals:      </th>  <td>  2995</td>  \n",
       "</tr>\n",
       "<tr>\n",
       "  <th>Method:</th>               <td>MLE</td>       <th>  Df Model:          </th>  <td>     4</td>  \n",
       "</tr>\n",
       "<tr>\n",
       "  <th>Date:</th>          <td>Tue, 13 Sep 2016</td> <th>  Pseudo R-squ.:     </th>  <td>0.04013</td> \n",
       "</tr>\n",
       "<tr>\n",
       "  <th>Time:</th>              <td>18:51:35</td>     <th>  Log-Likelihood:    </th> <td> -350.61</td> \n",
       "</tr>\n",
       "<tr>\n",
       "  <th>converged:</th>           <td>True</td>       <th>  LL-Null:           </th> <td> -365.27</td> \n",
       "</tr>\n",
       "<tr>\n",
       "  <th> </th>                      <td> </td>        <th>  LLR p-value:       </th> <td>6.747e-06</td>\n",
       "</tr>\n",
       "</table>\n",
       "<table class=\"simpletable\">\n",
       "<tr>\n",
       "          <td></td>            <th>coef</th>     <th>std err</th>      <th>z</th>      <th>P>|z|</th> <th>[95.0% Conf. Int.]</th> \n",
       "</tr>\n",
       "<tr>\n",
       "  <th>Intercept</th>        <td> -109.5530</td> <td>   47.655</td> <td>   -2.299</td> <td> 0.022</td> <td> -202.956   -16.150</td>\n",
       "</tr>\n",
       "<tr>\n",
       "  <th>age</th>              <td>    8.9950</td> <td>    4.187</td> <td>    2.148</td> <td> 0.032</td> <td>    0.789    17.201</td>\n",
       "</tr>\n",
       "<tr>\n",
       "  <th>np.power(age, 2)</th> <td>   -0.2816</td> <td>    0.135</td> <td>   -2.081</td> <td> 0.037</td> <td>   -0.547    -0.016</td>\n",
       "</tr>\n",
       "<tr>\n",
       "  <th>np.power(age, 3)</th> <td>    0.0039</td> <td>    0.002</td> <td>    2.022</td> <td> 0.043</td> <td>    0.000     0.008</td>\n",
       "</tr>\n",
       "<tr>\n",
       "  <th>np.power(age, 4)</th> <td>-1.949e-05</td> <td> 9.91e-06</td> <td>   -1.966</td> <td> 0.049</td> <td>-3.89e-05 -6.41e-08</td>\n",
       "</tr>\n",
       "</table>"
      ],
      "text/plain": [
       "<class 'statsmodels.iolib.summary.Summary'>\n",
       "\"\"\"\n",
       "                           Logit Regression Results                           \n",
       "==============================================================================\n",
       "Dep. Variable:               wage_250   No. Observations:                 3000\n",
       "Model:                          Logit   Df Residuals:                     2995\n",
       "Method:                           MLE   Df Model:                            4\n",
       "Date:                Tue, 13 Sep 2016   Pseudo R-squ.:                 0.04013\n",
       "Time:                        18:51:35   Log-Likelihood:                -350.61\n",
       "converged:                       True   LL-Null:                       -365.27\n",
       "                                        LLR p-value:                 6.747e-06\n",
       "====================================================================================\n",
       "                       coef    std err          z      P>|z|      [95.0% Conf. Int.]\n",
       "------------------------------------------------------------------------------------\n",
       "Intercept         -109.5530     47.655     -2.299      0.022      -202.956   -16.150\n",
       "age                  8.9950      4.187      2.148      0.032         0.789    17.201\n",
       "np.power(age, 2)    -0.2816      0.135     -2.081      0.037        -0.547    -0.016\n",
       "np.power(age, 3)     0.0039      0.002      2.022      0.043         0.000     0.008\n",
       "np.power(age, 4) -1.949e-05   9.91e-06     -1.966      0.049     -3.89e-05 -6.41e-08\n",
       "====================================================================================\n",
       "\"\"\""
      ]
     },
     "execution_count": 270,
     "metadata": {},
     "output_type": "execute_result"
    }
   ],
   "source": [
    "results.summary()"
   ]
  },
  {
   "cell_type": "code",
   "execution_count": 271,
   "metadata": {
    "collapsed": false
   },
   "outputs": [],
   "source": [
    "y_hat = np.exp(results.fittedvalues)\n",
    "y = wage['wage_250'].values\n",
    "x = X['age'].values\n",
    "x_mean = x.mean()\n",
    "n = len(y)"
   ]
  },
  {
   "cell_type": "code",
   "execution_count": 272,
   "metadata": {
    "collapsed": false
   },
   "outputs": [],
   "source": [
    "sy = np.sqrt(np.sum((y - y_hat)**2) / (n - 2))\n",
    "sx = np.sum((x - x_mean) ** 2) / n\n",
    "x_s = (x - x_mean) ** 2"
   ]
  },
  {
   "cell_type": "code",
   "execution_count": 273,
   "metadata": {
    "collapsed": false
   },
   "outputs": [],
   "source": [
    "sx = np.sum(x ** 2) - (x.sum() ** 2) / n"
   ]
  },
  {
   "cell_type": "code",
   "execution_count": 279,
   "metadata": {
    "collapsed": false
   },
   "outputs": [],
   "source": [
    "err = sy * np.sqrt(1/n + x_s / x_s.sum())"
   ]
  },
  {
   "cell_type": "code",
   "execution_count": 280,
   "metadata": {
    "collapsed": true
   },
   "outputs": [],
   "source": [
    "order = np.argsort(x)\n",
    "x_o = x[order]"
   ]
  },
  {
   "cell_type": "code",
   "execution_count": 294,
   "metadata": {
    "collapsed": false
   },
   "outputs": [
    {
     "data": {
      "text/plain": [
       "(0, 0.07)"
      ]
     },
     "execution_count": 294,
     "metadata": {},
     "output_type": "execute_result"
    },
    {
     "data": {
      "image/png": "[encoded data removed]",
      "text/plain": [
       "<matplotlib.figure.Figure at 0x1229609e8>"
      ]
     },
     "metadata": {},
     "output_type": "display_data"
    }
   ],
   "source": [
    "plt.figure(figsize=(10, 8))\n",
    "plt.scatter(x_o, y[order])\n",
    "plt.plot(x_o, y_hat[order], 'r', lw=2)\n",
    "plt.plot(x_o, y_hat[order] + 2 * err[order], 'r--', lw=2)\n",
    "plt.plot(x_o, y_hat[order] - 2 * err[order], 'r--', lw=2)\n",
    "plt.ylim(0, .07)"
   ]
  },
  {
   "cell_type": "markdown",
   "metadata": {},
   "source": [
    "# Step function as in 7.2\n",
    "use pd.cut"
   ]
  },
  {
   "cell_type": "code",
   "execution_count": 308,
   "metadata": {
    "collapsed": true
   },
   "outputs": [],
   "source": [
    "results = smf.ols('wage ~ pd.cut(age, 4)', data=wage).fit()"
   ]
  },
  {
   "cell_type": "code",
   "execution_count": 309,
   "metadata": {
    "collapsed": false
   },
   "outputs": [
    {
     "data": {
      "text/html": [
       "<table class=\"simpletable\">\n",
       "<caption>OLS Regression Results</caption>\n",
       "<tr>\n",
       "  <th>Dep. Variable:</th>          <td>wage</td>       <th>  R-squared:         </th> <td>   0.062</td> \n",
       "</tr>\n",
       "<tr>\n",
       "  <th>Model:</th>                   <td>OLS</td>       <th>  Adj. R-squared:    </th> <td>   0.062</td> \n",
       "</tr>\n",
       "<tr>\n",
       "  <th>Method:</th>             <td>Least Squares</td>  <th>  F-statistic:       </th> <td>   66.58</td> \n",
       "</tr>\n",
       "<tr>\n",
       "  <th>Date:</th>             <td>Tue, 13 Sep 2016</td> <th>  Prob (F-statistic):</th> <td>1.13e-41</td> \n",
       "</tr>\n",
       "<tr>\n",
       "  <th>Time:</th>                 <td>19:03:26</td>     <th>  Log-Likelihood:    </th> <td> -15353.</td> \n",
       "</tr>\n",
       "<tr>\n",
       "  <th>No. Observations:</th>      <td>  3000</td>      <th>  AIC:               </th> <td>3.071e+04</td>\n",
       "</tr>\n",
       "<tr>\n",
       "  <th>Df Residuals:</th>          <td>  2996</td>      <th>  BIC:               </th> <td>3.074e+04</td>\n",
       "</tr>\n",
       "<tr>\n",
       "  <th>Df Model:</th>              <td>     3</td>      <th>                     </th>     <td> </td>    \n",
       "</tr>\n",
       "<tr>\n",
       "  <th>Covariance Type:</th>      <td>nonrobust</td>    <th>                     </th>     <td> </td>    \n",
       "</tr>\n",
       "</table>\n",
       "<table class=\"simpletable\">\n",
       "<tr>\n",
       "                <td></td>                  <th>coef</th>     <th>std err</th>      <th>t</th>      <th>P>|t|</th> <th>[95.0% Conf. Int.]</th> \n",
       "</tr>\n",
       "<tr>\n",
       "  <th>Intercept</th>                    <td>   94.1584</td> <td>    1.476</td> <td>   63.790</td> <td> 0.000</td> <td>   91.264    97.053</td>\n",
       "</tr>\n",
       "<tr>\n",
       "  <th>pd.cut(age, 4)[T.(33.5, 49]]</th> <td>   24.0535</td> <td>    1.829</td> <td>   13.148</td> <td> 0.000</td> <td>   20.466    27.641</td>\n",
       "</tr>\n",
       "<tr>\n",
       "  <th>pd.cut(age, 4)[T.(49, 64.5]]</th> <td>   23.6646</td> <td>    2.068</td> <td>   11.443</td> <td> 0.000</td> <td>   19.610    27.719</td>\n",
       "</tr>\n",
       "<tr>\n",
       "  <th>pd.cut(age, 4)[T.(64.5, 80]]</th> <td>    7.6406</td> <td>    4.987</td> <td>    1.532</td> <td> 0.126</td> <td>   -2.139    17.420</td>\n",
       "</tr>\n",
       "</table>\n",
       "<table class=\"simpletable\">\n",
       "<tr>\n",
       "  <th>Omnibus:</th>       <td>1062.354</td> <th>  Durbin-Watson:     </th> <td>   1.965</td>\n",
       "</tr>\n",
       "<tr>\n",
       "  <th>Prob(Omnibus):</th>  <td> 0.000</td>  <th>  Jarque-Bera (JB):  </th> <td>4551.200</td>\n",
       "</tr>\n",
       "<tr>\n",
       "  <th>Skew:</th>           <td> 1.681</td>  <th>  Prob(JB):          </th> <td>    0.00</td>\n",
       "</tr>\n",
       "<tr>\n",
       "  <th>Kurtosis:</th>       <td> 8.011</td>  <th>  Cond. No.          </th> <td>    7.88</td>\n",
       "</tr>\n",
       "</table>"
      ],
      "text/plain": [
       "<class 'statsmodels.iolib.summary.Summary'>\n",
       "\"\"\"\n",
       "                            OLS Regression Results                            \n",
       "==============================================================================\n",
       "Dep. Variable:                   wage   R-squared:                       0.062\n",
       "Model:                            OLS   Adj. R-squared:                  0.062\n",
       "Method:                 Least Squares   F-statistic:                     66.58\n",
       "Date:                Tue, 13 Sep 2016   Prob (F-statistic):           1.13e-41\n",
       "Time:                        19:03:26   Log-Likelihood:                -15353.\n",
       "No. Observations:                3000   AIC:                         3.071e+04\n",
       "Df Residuals:                    2996   BIC:                         3.074e+04\n",
       "Df Model:                           3                                         \n",
       "Covariance Type:            nonrobust                                         \n",
       "================================================================================================\n",
       "                                   coef    std err          t      P>|t|      [95.0% Conf. Int.]\n",
       "------------------------------------------------------------------------------------------------\n",
       "Intercept                       94.1584      1.476     63.790      0.000        91.264    97.053\n",
       "pd.cut(age, 4)[T.(33.5, 49]]    24.0535      1.829     13.148      0.000        20.466    27.641\n",
       "pd.cut(age, 4)[T.(49, 64.5]]    23.6646      2.068     11.443      0.000        19.610    27.719\n",
       "pd.cut(age, 4)[T.(64.5, 80]]     7.6406      4.987      1.532      0.126        -2.139    17.420\n",
       "==============================================================================\n",
       "Omnibus:                     1062.354   Durbin-Watson:                   1.965\n",
       "Prob(Omnibus):                  0.000   Jarque-Bera (JB):             4551.200\n",
       "Skew:                           1.681   Prob(JB):                         0.00\n",
       "Kurtosis:                       8.011   Cond. No.                         7.88\n",
       "==============================================================================\n",
       "\n",
       "Warnings:\n",
       "[1] Standard Errors assume that the covariance matrix of the errors is correctly specified.\n",
       "\"\"\""
      ]
     },
     "execution_count": 309,
     "metadata": {},
     "output_type": "execute_result"
    }
   ],
   "source": [
    "results.summary()"
   ]
  },
  {
   "cell_type": "markdown",
   "metadata": {},
   "source": [
    "# Splines"
   ]
  },
  {
   "cell_type": "code",
   "execution_count": 322,
   "metadata": {
    "collapsed": true
   },
   "outputs": [],
   "source": [
    "import scipy.interpolate as si"
   ]
  },
  {
   "cell_type": "code",
   "execution_count": 323,
   "metadata": {
    "collapsed": false
   },
   "outputs": [],
   "source": [
    "y = wage['wage'].values"
   ]
  },
  {
   "cell_type": "code",
   "execution_count": 324,
   "metadata": {
    "collapsed": false
   },
   "outputs": [],
   "source": [
    "order = np.argsort(x)"
   ]
  },
  {
   "cell_type": "code",
   "execution_count": 351,
   "metadata": {
    "collapsed": true
   },
   "outputs": [],
   "source": [
    "x_sort = x[order]\n",
    "y_sort = y[order]\n",
    "t = np.array([25, 40, 60])"
   ]
  },
  {
   "cell_type": "code",
   "execution_count": 352,
   "metadata": {
    "collapsed": true
   },
   "outputs": [],
   "source": [
    "spl = si.LSQUnivariateSpline(x_sort, y_sort, t)"
   ]
  },
  {
   "cell_type": "code",
   "execution_count": 353,
   "metadata": {
    "collapsed": false
   },
   "outputs": [
    {
     "data": {
      "text/plain": [
       "array([ 60.49371419,  60.49371419,  60.49371419, ...,  77.09985645,\n",
       "        77.09985645,  77.09985645])"
      ]
     },
     "execution_count": 353,
     "metadata": {},
     "output_type": "execute_result"
    }
   ],
   "source": [
    "spl(x_sort)"
   ]
  },
  {
   "cell_type": "code",
   "execution_count": 356,
   "metadata": {
    "collapsed": false
   },
   "outputs": [
    {
     "data": {
      "image/png": "[encoded data removed]",
      "text/plain": [
       "<matplotlib.figure.Figure at 0x113e4d4e0>"
      ]
     },
     "metadata": {},
     "output_type": "display_data"
    }
   ],
   "source": [
    "plt.figure(figsize=(10,8))\n",
    "plt.plot(x_sort, y_sort, 'ro', ms=5)\n",
    "plt.plot(x_sort, spl(x_sort), 'g-', lw=3);"
   ]
  },
  {
   "cell_type": "markdown",
   "metadata": {},
   "source": [
    "# General additive models in python\n",
    "not much available. Best to use R"
   ]
  },
  {
   "cell_type": "markdown",
   "metadata": {},
   "source": [
    "# Exercises"
   ]
  },
  {
   "cell_type": "markdown",
   "metadata": {},
   "source": [
    "# 1 Cubic Spline regression\n",
    "a) Since x < $\\xi$ then $a_1 = \\beta_0$ and $b_1 = \\beta_1$ and $c_1 = \\beta_2$ and $d_1 = \\beta_3$\n",
    "\n",
    "b) Must expand expression and group like polynomial terms. $a_1 = \\beta_0 - \\beta_4\\xi^3$ and $b_1 = \\beta_1 + \\beta_4\\xi^2$ and $c_1 = \\beta_2 - 3\\beta_4\\xi$ and $d_1 = \\beta_3 + \\beta_4$\n",
    "\n",
    "c) when $x=\\xi$ the spline term equals 0 for both equations and thus they are equal\n",
    "\n",
    "d, e) If they are equal then their derivatives must also be equal\n",
    "\n",
    "# 2\n",
    "a) g = 0  \n",
    "b) g = mean(y)  \n",
    "c) g = linear regression with 2 parameters - slope and intercept  \n",
    "d) g = cubic term in regression with 3 parameters  \n",
    "e) g = very high dimensional function that gives nearly 0 training error  \n",
    "\n",
    "# 3"
   ]
  },
  {
   "cell_type": "code",
   "execution_count": 358,
   "metadata": {
    "collapsed": true
   },
   "outputs": [],
   "source": [
    "x = np.linspace(-2, 2, 100)"
   ]
  },
  {
   "cell_type": "code",
   "execution_count": 370,
   "metadata": {
    "collapsed": true
   },
   "outputs": [],
   "source": [
    "y = 1 + x + -2 * (x - 1) ** 2 * (x >= 1)"
   ]
  },
  {
   "cell_type": "code",
   "execution_count": 371,
   "metadata": {
    "collapsed": false
   },
   "outputs": [
    {
     "data": {
      "text/plain": [
       "[<matplotlib.lines.Line2D at 0x12262bda0>]"
      ]
     },
     "execution_count": 371,
     "metadata": {},
     "output_type": "execute_result"
    },
    {
     "data": {
      "image/png": "[encoded data removed]",
      "text/plain": [
       "<matplotlib.figure.Figure at 0x123d5e2e8>"
      ]
     },
     "metadata": {},
     "output_type": "display_data"
    }
   ],
   "source": [
    "plt.plot(x, y)"
   ]
  },
  {
   "cell_type": "markdown",
   "metadata": {},
   "source": [
    "# 4"
   ]
  },
  {
   "cell_type": "code",
   "execution_count": 366,
   "metadata": {
    "collapsed": true
   },
   "outputs": [],
   "source": [
    "b1_1 = (0 <= x) & (x <= 2)\n",
    "b1_2 = (1 <= x) & (x <= 2)\n",
    "b2_1 = (3 <= x) & (x <= 4)\n",
    "b2_2 = (4 < x) & (x <= 5)"
   ]
  },
  {
   "cell_type": "code",
   "execution_count": 368,
   "metadata": {
    "collapsed": false
   },
   "outputs": [],
   "source": [
    "y = 1 + b1_1 - (x - 1) * b1_2 + (x - 3) * b2_1 + b2_2"
   ]
  },
  {
   "cell_type": "code",
   "execution_count": 369,
   "metadata": {
    "collapsed": false
   },
   "outputs": [
    {
     "data": {
      "text/plain": [
       "[<matplotlib.lines.Line2D at 0x123d5ceb8>]"
      ]
     },
     "execution_count": 369,
     "metadata": {},
     "output_type": "execute_result"
    },
    {
     "data": {
      "image/png": "[encoded data removed]",
      "text/plain": [
       "<matplotlib.figure.Figure at 0x122960eb8>"
      ]
     },
     "metadata": {},
     "output_type": "display_data"
    }
   ],
   "source": [
    "plt.plot(x, y)"
   ]
  },
  {
   "cell_type": "markdown",
   "metadata": {},
   "source": [
    "# 5\n",
    "a) g2 will have smaller training error, since it is allowing more flexibility, can have up to a cubic model. g1 will be limited to a quadratic model as $\\lambda$ approaches infinity\n",
    "\n",
    "b) Can't tell which model will have smaller test error this depends on the 'true' relationship between x and y.\n",
    "\n",
    "c) g1 and g2 will be the same model if there is no penalty"
   ]
  },
  {
   "cell_type": "markdown",
   "metadata": {},
   "source": [
    "# 6"
   ]
  },
  {
   "cell_type": "code",
   "execution_count": 389,
   "metadata": {
    "collapsed": true
   },
   "outputs": [],
   "source": [
    "from sklearn.pipeline import Pipeline\n",
    "from sklearn.preprocessing import PolynomialFeatures\n",
    "from sklearn.linear_model import LinearRegression\n",
    "from sklearn import cross_validation"
   ]
  },
  {
   "cell_type": "code",
   "execution_count": 442,
   "metadata": {
    "collapsed": false
   },
   "outputs": [],
   "source": [
    "degrees = range(1, 11)\n",
    "X = wage[['age']]\n",
    "y = wage['wage']\n",
    "final_scores = []\n",
    "for degree in degrees:\n",
    "    polynomial_features = PolynomialFeatures(degree=degree,\n",
    "                                             include_bias=False)\n",
    "    linear_regression = LinearRegression()\n",
    "    pipeline = Pipeline([(\"polynomial_features\", polynomial_features),\n",
    "                         (\"linear_regression\", linear_regression)])\n",
    "\n",
    "    scores = cross_validation.cross_val_score(pipeline,\n",
    "            X, y, cv=10, scoring='mean_squared_error')\n",
    "    final_scores.append(-np.mean(scores))"
   ]
  },
  {
   "cell_type": "code",
   "execution_count": 443,
   "metadata": {
    "collapsed": false
   },
   "outputs": [
    {
     "data": {
      "image/png": "[encoded data removed]",
      "text/plain": [
       "<matplotlib.figure.Figure at 0x123edaa90>"
      ]
     },
     "metadata": {},
     "output_type": "display_data"
    }
   ],
   "source": [
    "# degree 3 chosen through 10-fold CV\n",
    "plt.plot(degrees, final_scores);"
   ]
  },
  {
   "cell_type": "code",
   "execution_count": 582,
   "metadata": {
    "collapsed": false
   },
   "outputs": [
    {
     "data": {
      "text/html": [
       "<div>\n",
       "<table border=\"1\" class=\"dataframe\">\n",
       "  <thead>\n",
       "    <tr style=\"text-align: right;\">\n",
       "      <th></th>\n",
       "      <th>df_resid</th>\n",
       "      <th>ssr</th>\n",
       "      <th>df_diff</th>\n",
       "      <th>ss_diff</th>\n",
       "      <th>F</th>\n",
       "      <th>Pr(&gt;F)</th>\n",
       "    </tr>\n",
       "  </thead>\n",
       "  <tbody>\n",
       "    <tr>\n",
       "      <th>0</th>\n",
       "      <td>2998.0</td>\n",
       "      <td>5.022216e+06</td>\n",
       "      <td>0.0</td>\n",
       "      <td>NaN</td>\n",
       "      <td>NaN</td>\n",
       "      <td>NaN</td>\n",
       "    </tr>\n",
       "    <tr>\n",
       "      <th>1</th>\n",
       "      <td>2997.0</td>\n",
       "      <td>4.793430e+06</td>\n",
       "      <td>1.0</td>\n",
       "      <td>228786.010128</td>\n",
       "      <td>143.593107</td>\n",
       "      <td>2.363850e-32</td>\n",
       "    </tr>\n",
       "    <tr>\n",
       "      <th>2</th>\n",
       "      <td>2996.0</td>\n",
       "      <td>4.777674e+06</td>\n",
       "      <td>1.0</td>\n",
       "      <td>15755.693664</td>\n",
       "      <td>9.888756</td>\n",
       "      <td>1.679202e-03</td>\n",
       "    </tr>\n",
       "    <tr>\n",
       "      <th>3</th>\n",
       "      <td>2995.0</td>\n",
       "      <td>4.771604e+06</td>\n",
       "      <td>1.0</td>\n",
       "      <td>6070.152124</td>\n",
       "      <td>3.809813</td>\n",
       "      <td>5.104620e-02</td>\n",
       "    </tr>\n",
       "    <tr>\n",
       "      <th>4</th>\n",
       "      <td>2994.0</td>\n",
       "      <td>4.770322e+06</td>\n",
       "      <td>1.0</td>\n",
       "      <td>1282.563017</td>\n",
       "      <td>0.804976</td>\n",
       "      <td>3.696820e-01</td>\n",
       "    </tr>\n",
       "  </tbody>\n",
       "</table>\n",
       "</div>"
      ],
      "text/plain": [
       "   df_resid           ssr  df_diff        ss_diff           F        Pr(>F)\n",
       "0    2998.0  5.022216e+06      0.0            NaN         NaN           NaN\n",
       "1    2997.0  4.793430e+06      1.0  228786.010128  143.593107  2.363850e-32\n",
       "2    2996.0  4.777674e+06      1.0   15755.693664    9.888756  1.679202e-03\n",
       "3    2995.0  4.771604e+06      1.0    6070.152124    3.809813  5.104620e-02\n",
       "4    2994.0  4.770322e+06      1.0    1282.563017    0.804976  3.696820e-01"
      ]
     },
     "execution_count": 582,
     "metadata": {},
     "output_type": "execute_result"
    }
   ],
   "source": [
    "# compare to anova: already done above. More evidence that 4th and 5th degree polynomial are not needed\n",
    "mod1 = smf.ols('wage ~ age', data=wage).fit()\n",
    "mod2 = smf.ols('wage ~ age + np.power(age, 2)', data=wage).fit()\n",
    "mod3 = smf.ols('wage ~ age + np.power(age, 2) + np.power(age, 3)', data=wage).fit()\n",
    "mod4 = smf.ols('wage ~ age + np.power(age, 2) + np.power(age, 3) + np.power(age, 4)', data=wage).fit()\n",
    "mod5 = smf.ols('wage ~ age + np.power(age, 2) + np.power(age, 3) + np.power(age, 4) + np.power(age, 5)', data=wage).fit()\n",
    "anova_lm(mod1, mod2, mod3, mod4, mod5)"
   ]
  },
  {
   "cell_type": "code",
   "execution_count": 446,
   "metadata": {
    "collapsed": false
   },
   "outputs": [
    {
     "data": {
      "text/plain": [
       "LinearRegression(copy_X=True, fit_intercept=True, n_jobs=1, normalize=False)"
      ]
     },
     "execution_count": 446,
     "metadata": {},
     "output_type": "execute_result"
    }
   ],
   "source": [
    "polynomial_features = PolynomialFeatures(degree=3, include_bias=False)\n",
    "linear_regression.fit(polynomial_features.fit_transform(X), y)"
   ]
  },
  {
   "cell_type": "code",
   "execution_count": 451,
   "metadata": {
    "collapsed": false
   },
   "outputs": [],
   "source": [
    "x = np.linspace(X.values.min(), X.values.max(), 1000)"
   ]
  },
  {
   "cell_type": "code",
   "execution_count": 460,
   "metadata": {
    "collapsed": false
   },
   "outputs": [
    {
     "data": {
      "image/png": "[encoded data removed]",
      "text/plain": [
       "<matplotlib.figure.Figure at 0x123204208>"
      ]
     },
     "metadata": {},
     "output_type": "display_data"
    }
   ],
   "source": [
    "plt.scatter(X, y)\n",
    "plt.plot(x, linear_regression.predict(polynomial_features.fit_transform(x.reshape(-1, 1))), c='r', lw=3);"
   ]
  },
  {
   "cell_type": "code",
   "execution_count": 524,
   "metadata": {
    "collapsed": true
   },
   "outputs": [],
   "source": [
    "from sklearn.preprocessing import LabelBinarizer"
   ]
  },
  {
   "cell_type": "code",
   "execution_count": 560,
   "metadata": {
    "collapsed": false
   },
   "outputs": [],
   "source": [
    "cuts = range(1, 41)\n",
    "X = wage[['age']]\n",
    "y = wage['wage']\n",
    "final_scores = []\n",
    "for cut in cuts:\n",
    "    lb = LabelBinarizer()\n",
    "    X_new = lb.fit_transform(pd.cut(X['age'], cut))\n",
    "    \n",
    "    linear_regression = LinearRegression(fit_intercept=True if cut in [1, 2] else False)\n",
    "\n",
    "    scores = cross_validation.cross_val_score(linear_regression, X_new, y, cv=10, scoring='mean_squared_error')\n",
    "    final_scores.append(-np.mean(scores))"
   ]
  },
  {
   "cell_type": "code",
   "execution_count": 561,
   "metadata": {
    "collapsed": false
   },
   "outputs": [
    {
     "data": {
      "image/png": "[encoded data removed]",
      "text/plain": [
       "<matplotlib.figure.Figure at 0x123d51e48>"
      ]
     },
     "metadata": {},
     "output_type": "display_data"
    }
   ],
   "source": [
    "# looks like error stops getting better after 7 cuts\n",
    "plt.plot(cuts, final_scores);"
   ]
  },
  {
   "cell_type": "code",
   "execution_count": 581,
   "metadata": {
    "collapsed": false
   },
   "outputs": [
    {
     "data": {
      "image/png": "[encoded data removed]",
      "text/plain": [
       "<matplotlib.figure.Figure at 0x122d29908>"
      ]
     },
     "metadata": {},
     "output_type": "display_data"
    }
   ],
   "source": [
    "plt.figure(figsize=(10,8))\n",
    "X_new = lb.fit_transform(pd.cut(X['age'], 7))\n",
    "linear_regression = LinearRegression(fit_intercept=False)\n",
    "linear_regression.fit(X_new, y)\n",
    "plt.scatter(X, y)\n",
    "order = np.argsort(X['age'])\n",
    "plt.plot(X['age'].values[order], linear_regression.predict(X_new[order]), c='r', lw=3);"
   ]
  },
  {
   "cell_type": "markdown",
   "metadata": {},
   "source": [
    "# 7"
   ]
  },
  {
   "cell_type": "code",
   "execution_count": 744,
   "metadata": {
    "collapsed": true
   },
   "outputs": [],
   "source": [
    "wage = pd.read_csv('data/wage.csv')"
   ]
  },
  {
   "cell_type": "code",
   "execution_count": 748,
   "metadata": {
    "collapsed": false
   },
   "outputs": [
    {
     "data": {
      "text/html": [
       "<div>\n",
       "<table border=\"1\" class=\"dataframe\">\n",
       "  <thead>\n",
       "    <tr style=\"text-align: right;\">\n",
       "      <th></th>\n",
       "      <th>maritl</th>\n",
       "      <th>jobclass</th>\n",
       "    </tr>\n",
       "  </thead>\n",
       "  <tbody>\n",
       "    <tr>\n",
       "      <th>0</th>\n",
       "      <td>1. Never Married</td>\n",
       "      <td>1. Industrial</td>\n",
       "    </tr>\n",
       "    <tr>\n",
       "      <th>1</th>\n",
       "      <td>1. Never Married</td>\n",
       "      <td>2. Information</td>\n",
       "    </tr>\n",
       "    <tr>\n",
       "      <th>2</th>\n",
       "      <td>2. Married</td>\n",
       "      <td>1. Industrial</td>\n",
       "    </tr>\n",
       "    <tr>\n",
       "      <th>3</th>\n",
       "      <td>2. Married</td>\n",
       "      <td>2. Information</td>\n",
       "    </tr>\n",
       "    <tr>\n",
       "      <th>4</th>\n",
       "      <td>4. Divorced</td>\n",
       "      <td>2. Information</td>\n",
       "    </tr>\n",
       "  </tbody>\n",
       "</table>\n",
       "</div>"
      ],
      "text/plain": [
       "             maritl        jobclass\n",
       "0  1. Never Married   1. Industrial\n",
       "1  1. Never Married  2. Information\n",
       "2        2. Married   1. Industrial\n",
       "3        2. Married  2. Information\n",
       "4       4. Divorced  2. Information"
      ]
     },
     "execution_count": 748,
     "metadata": {},
     "output_type": "execute_result"
    }
   ],
   "source": [
    "wage[['maritl', 'jobclass']].head()"
   ]
  },
  {
   "cell_type": "code",
   "execution_count": 749,
   "metadata": {
    "collapsed": false
   },
   "outputs": [],
   "source": [
    "X = pd.get_dummies(wage[['maritl', 'jobclass']], drop_first=False)\n",
    "y = wage['wage']"
   ]
  },
  {
   "cell_type": "code",
   "execution_count": 751,
   "metadata": {
    "collapsed": false
   },
   "outputs": [
    {
     "data": {
      "text/html": [
       "<div>\n",
       "<table border=\"1\" class=\"dataframe\">\n",
       "  <thead>\n",
       "    <tr style=\"text-align: right;\">\n",
       "      <th></th>\n",
       "      <th>maritl_1. Never Married</th>\n",
       "      <th>maritl_2. Married</th>\n",
       "      <th>maritl_3. Widowed</th>\n",
       "      <th>maritl_4. Divorced</th>\n",
       "      <th>maritl_5. Separated</th>\n",
       "      <th>jobclass_1. Industrial</th>\n",
       "      <th>jobclass_2. Information</th>\n",
       "    </tr>\n",
       "  </thead>\n",
       "  <tbody>\n",
       "    <tr>\n",
       "      <th>0</th>\n",
       "      <td>1.0</td>\n",
       "      <td>0.0</td>\n",
       "      <td>0.0</td>\n",
       "      <td>0.0</td>\n",
       "      <td>0.0</td>\n",
       "      <td>1.0</td>\n",
       "      <td>0.0</td>\n",
       "    </tr>\n",
       "    <tr>\n",
       "      <th>1</th>\n",
       "      <td>1.0</td>\n",
       "      <td>0.0</td>\n",
       "      <td>0.0</td>\n",
       "      <td>0.0</td>\n",
       "      <td>0.0</td>\n",
       "      <td>0.0</td>\n",
       "      <td>1.0</td>\n",
       "    </tr>\n",
       "    <tr>\n",
       "      <th>2</th>\n",
       "      <td>0.0</td>\n",
       "      <td>1.0</td>\n",
       "      <td>0.0</td>\n",
       "      <td>0.0</td>\n",
       "      <td>0.0</td>\n",
       "      <td>1.0</td>\n",
       "      <td>0.0</td>\n",
       "    </tr>\n",
       "    <tr>\n",
       "      <th>3</th>\n",
       "      <td>0.0</td>\n",
       "      <td>1.0</td>\n",
       "      <td>0.0</td>\n",
       "      <td>0.0</td>\n",
       "      <td>0.0</td>\n",
       "      <td>0.0</td>\n",
       "      <td>1.0</td>\n",
       "    </tr>\n",
       "    <tr>\n",
       "      <th>4</th>\n",
       "      <td>0.0</td>\n",
       "      <td>0.0</td>\n",
       "      <td>0.0</td>\n",
       "      <td>1.0</td>\n",
       "      <td>0.0</td>\n",
       "      <td>0.0</td>\n",
       "      <td>1.0</td>\n",
       "    </tr>\n",
       "  </tbody>\n",
       "</table>\n",
       "</div>"
      ],
      "text/plain": [
       "   maritl_1. Never Married  maritl_2. Married  maritl_3. Widowed  \\\n",
       "0                      1.0                0.0                0.0   \n",
       "1                      1.0                0.0                0.0   \n",
       "2                      0.0                1.0                0.0   \n",
       "3                      0.0                1.0                0.0   \n",
       "4                      0.0                0.0                0.0   \n",
       "\n",
       "   maritl_4. Divorced  maritl_5. Separated  jobclass_1. Industrial  \\\n",
       "0                 0.0                  0.0                     1.0   \n",
       "1                 0.0                  0.0                     0.0   \n",
       "2                 0.0                  0.0                     1.0   \n",
       "3                 0.0                  0.0                     0.0   \n",
       "4                 1.0                  0.0                     0.0   \n",
       "\n",
       "   jobclass_2. Information  \n",
       "0                      0.0  \n",
       "1                      1.0  \n",
       "2                      0.0  \n",
       "3                      1.0  \n",
       "4                      1.0  "
      ]
     },
     "execution_count": 751,
     "metadata": {},
     "output_type": "execute_result"
    }
   ],
   "source": [
    "X.head()"
   ]
  },
  {
   "cell_type": "code",
   "execution_count": 731,
   "metadata": {
    "collapsed": false
   },
   "outputs": [
    {
     "data": {
      "text/plain": [
       "LinearRegression(copy_X=True, fit_intercept=True, n_jobs=1, normalize=False)"
      ]
     },
     "execution_count": 731,
     "metadata": {},
     "output_type": "execute_result"
    }
   ],
   "source": [
    "linear_regression = LinearRegression(fit_intercept=True)\n",
    "linear_regression.fit(X, y)"
   ]
  },
  {
   "cell_type": "code",
   "execution_count": 732,
   "metadata": {
    "collapsed": false
   },
   "outputs": [
    {
     "data": {
      "text/plain": [
       "array([-10.06914129,  15.28671515,  -1.93249277,  -0.40498993,\n",
       "        -2.88009116,  -8.2615753 ,   8.2615753 ])"
      ]
     },
     "execution_count": 732,
     "metadata": {},
     "output_type": "execute_result"
    }
   ],
   "source": [
    "linear_regression.coef_"
   ]
  },
  {
   "cell_type": "code",
   "execution_count": 733,
   "metadata": {
    "collapsed": false
   },
   "outputs": [
    {
     "data": {
      "text/plain": [
       "103.64524662926692"
      ]
     },
     "execution_count": 733,
     "metadata": {},
     "output_type": "execute_result"
    }
   ],
   "source": [
    "linear_regression.intercept_"
   ]
  },
  {
   "cell_type": "code",
   "execution_count": 734,
   "metadata": {
    "collapsed": false
   },
   "outputs": [],
   "source": [
    "# linear_regression.predict(np.array([[1, 0, 0, 0, 0]]))"
   ]
  },
  {
   "cell_type": "code",
   "execution_count": 752,
   "metadata": {
    "collapsed": true
   },
   "outputs": [],
   "source": [
    "import statsmodels.api as sm"
   ]
  },
  {
   "cell_type": "code",
   "execution_count": 753,
   "metadata": {
    "collapsed": false
   },
   "outputs": [
    {
     "data": {
      "text/html": [
       "<table class=\"simpletable\">\n",
       "<caption>OLS Regression Results</caption>\n",
       "<tr>\n",
       "  <th>Dep. Variable:</th>          <td>wage</td>       <th>  R-squared:         </th> <td>   0.109</td> \n",
       "</tr>\n",
       "<tr>\n",
       "  <th>Model:</th>                   <td>OLS</td>       <th>  Adj. R-squared:    </th> <td>   0.107</td> \n",
       "</tr>\n",
       "<tr>\n",
       "  <th>Method:</th>             <td>Least Squares</td>  <th>  F-statistic:       </th> <td>   72.98</td> \n",
       "</tr>\n",
       "<tr>\n",
       "  <th>Date:</th>             <td>Wed, 14 Sep 2016</td> <th>  Prob (F-statistic):</th> <td>2.67e-72</td> \n",
       "</tr>\n",
       "<tr>\n",
       "  <th>Time:</th>                 <td>18:25:00</td>     <th>  Log-Likelihood:    </th> <td> -15277.</td> \n",
       "</tr>\n",
       "<tr>\n",
       "  <th>No. Observations:</th>      <td>  3000</td>      <th>  AIC:               </th> <td>3.057e+04</td>\n",
       "</tr>\n",
       "<tr>\n",
       "  <th>Df Residuals:</th>          <td>  2994</td>      <th>  BIC:               </th> <td>3.060e+04</td>\n",
       "</tr>\n",
       "<tr>\n",
       "  <th>Df Model:</th>              <td>     5</td>      <th>                     </th>     <td> </td>    \n",
       "</tr>\n",
       "<tr>\n",
       "  <th>Covariance Type:</th>      <td>nonrobust</td>    <th>                     </th>     <td> </td>    \n",
       "</tr>\n",
       "</table>\n",
       "<table class=\"simpletable\">\n",
       "<tr>\n",
       "             <td></td>                <th>coef</th>     <th>std err</th>      <th>t</th>      <th>P>|t|</th> <th>[95.0% Conf. Int.]</th> \n",
       "</tr>\n",
       "<tr>\n",
       "  <th>maritl_1. Never Married</th> <td>   19.5438</td> <td>    2.045</td> <td>    9.557</td> <td> 0.000</td> <td>   15.534    23.553</td>\n",
       "</tr>\n",
       "<tr>\n",
       "  <th>maritl_2. Married</th>       <td>   44.8996</td> <td>    1.733</td> <td>   25.911</td> <td> 0.000</td> <td>   41.502    48.297</td>\n",
       "</tr>\n",
       "<tr>\n",
       "  <th>maritl_3. Widowed</th>       <td>   27.6804</td> <td>    7.806</td> <td>    3.546</td> <td> 0.000</td> <td>   12.374    42.987</td>\n",
       "</tr>\n",
       "<tr>\n",
       "  <th>maritl_4. Divorced</th>      <td>   29.2079</td> <td>    2.813</td> <td>   10.385</td> <td> 0.000</td> <td>   23.693    34.723</td>\n",
       "</tr>\n",
       "<tr>\n",
       "  <th>maritl_5. Separated</th>     <td>   26.7328</td> <td>    4.761</td> <td>    5.616</td> <td> 0.000</td> <td>   17.399    36.067</td>\n",
       "</tr>\n",
       "<tr>\n",
       "  <th>jobclass_1. Industrial</th>  <td>   65.7707</td> <td>    1.714</td> <td>   38.368</td> <td> 0.000</td> <td>   62.410    69.132</td>\n",
       "</tr>\n",
       "<tr>\n",
       "  <th>jobclass_2. Information</th> <td>   82.2939</td> <td>    1.742</td> <td>   47.228</td> <td> 0.000</td> <td>   78.877    85.710</td>\n",
       "</tr>\n",
       "</table>\n",
       "<table class=\"simpletable\">\n",
       "<tr>\n",
       "  <th>Omnibus:</th>       <td>1049.154</td> <th>  Durbin-Watson:     </th> <td>   1.967</td>\n",
       "</tr>\n",
       "<tr>\n",
       "  <th>Prob(Omnibus):</th>  <td> 0.000</td>  <th>  Jarque-Bera (JB):  </th> <td>4551.093</td>\n",
       "</tr>\n",
       "<tr>\n",
       "  <th>Skew:</th>           <td> 1.652</td>  <th>  Prob(JB):          </th> <td>    0.00</td>\n",
       "</tr>\n",
       "<tr>\n",
       "  <th>Kurtosis:</th>       <td> 8.049</td>  <th>  Cond. No.          </th> <td>1.08e+15</td>\n",
       "</tr>\n",
       "</table>"
      ],
      "text/plain": [
       "<class 'statsmodels.iolib.summary.Summary'>\n",
       "\"\"\"\n",
       "                            OLS Regression Results                            \n",
       "==============================================================================\n",
       "Dep. Variable:                   wage   R-squared:                       0.109\n",
       "Model:                            OLS   Adj. R-squared:                  0.107\n",
       "Method:                 Least Squares   F-statistic:                     72.98\n",
       "Date:                Wed, 14 Sep 2016   Prob (F-statistic):           2.67e-72\n",
       "Time:                        18:25:00   Log-Likelihood:                -15277.\n",
       "No. Observations:                3000   AIC:                         3.057e+04\n",
       "Df Residuals:                    2994   BIC:                         3.060e+04\n",
       "Df Model:                           5                                         \n",
       "Covariance Type:            nonrobust                                         \n",
       "===========================================================================================\n",
       "                              coef    std err          t      P>|t|      [95.0% Conf. Int.]\n",
       "-------------------------------------------------------------------------------------------\n",
       "maritl_1. Never Married    19.5438      2.045      9.557      0.000        15.534    23.553\n",
       "maritl_2. Married          44.8996      1.733     25.911      0.000        41.502    48.297\n",
       "maritl_3. Widowed          27.6804      7.806      3.546      0.000        12.374    42.987\n",
       "maritl_4. Divorced         29.2079      2.813     10.385      0.000        23.693    34.723\n",
       "maritl_5. Separated        26.7328      4.761      5.616      0.000        17.399    36.067\n",
       "jobclass_1. Industrial     65.7707      1.714     38.368      0.000        62.410    69.132\n",
       "jobclass_2. Information    82.2939      1.742     47.228      0.000        78.877    85.710\n",
       "==============================================================================\n",
       "Omnibus:                     1049.154   Durbin-Watson:                   1.967\n",
       "Prob(Omnibus):                  0.000   Jarque-Bera (JB):             4551.093\n",
       "Skew:                           1.652   Prob(JB):                         0.00\n",
       "Kurtosis:                       8.049   Cond. No.                     1.08e+15\n",
       "==============================================================================\n",
       "\n",
       "Warnings:\n",
       "[1] Standard Errors assume that the covariance matrix of the errors is correctly specified.\n",
       "[2] The smallest eigenvalue is 2.85e-27. This might indicate that there are\n",
       "strong multicollinearity problems or that the design matrix is singular.\n",
       "\"\"\""
      ]
     },
     "execution_count": 753,
     "metadata": {},
     "output_type": "execute_result"
    }
   ],
   "source": [
    "results_orig = smf.OLS(y, X).fit()\n",
    "results_orig.summary()"
   ]
  },
  {
   "cell_type": "code",
   "execution_count": 754,
   "metadata": {
    "collapsed": false
   },
   "outputs": [
    {
     "data": {
      "text/plain": [
       "97.10906713345983"
      ]
     },
     "execution_count": 754,
     "metadata": {},
     "output_type": "execute_result"
    }
   ],
   "source": [
    "wage[(wage['jobclass'] == '2. Information') & (wage['maritl'] == '3. Widowed')]['wage'].mean()"
   ]
  },
  {
   "cell_type": "code",
   "execution_count": 656,
   "metadata": {
    "collapsed": false
   },
   "outputs": [
    {
     "data": {
      "text/plain": [
       "92.73464859222041"
      ]
     },
     "execution_count": 656,
     "metadata": {},
     "output_type": "execute_result"
    }
   ],
   "source": [
    "wage[wage['maritl'] == '1. Never Married']['wage'].mean()"
   ]
  },
  {
   "cell_type": "code",
   "execution_count": 755,
   "metadata": {
    "collapsed": false
   },
   "outputs": [
    {
     "data": {
      "text/plain": [
       "103.32112881497488"
      ]
     },
     "execution_count": 755,
     "metadata": {},
     "output_type": "execute_result"
    }
   ],
   "source": [
    "wage[wage['jobclass'] == '1. Industrial']['wage'].mean()"
   ]
  },
  {
   "cell_type": "code",
   "execution_count": 756,
   "metadata": {
    "collapsed": false
   },
   "outputs": [
    {
     "data": {
      "text/plain": [
       "120.59272095804255"
      ]
     },
     "execution_count": 756,
     "metadata": {},
     "output_type": "execute_result"
    }
   ],
   "source": [
    "wage[wage['jobclass'] == '2. Information']['wage'].mean()"
   ]
  },
  {
   "cell_type": "code",
   "execution_count": 758,
   "metadata": {
    "collapsed": false
   },
   "outputs": [
    {
     "data": {
      "text/plain": [
       "1. Industrial     1544\n",
       "2. Information    1456\n",
       "Name: jobclass, dtype: int64"
      ]
     },
     "execution_count": 758,
     "metadata": {},
     "output_type": "execute_result"
    }
   ],
   "source": [
    "wage['jobclass'].value_counts()"
   ]
  },
  {
   "cell_type": "code",
   "execution_count": 714,
   "metadata": {
    "collapsed": false
   },
   "outputs": [
    {
     "data": {
      "text/plain": [
       "97.10906713345983"
      ]
     },
     "execution_count": 714,
     "metadata": {},
     "output_type": "execute_result"
    }
   ],
   "source": [
    "wage[(wage['jobclass'] == '2. Information') & (wage['maritl'] == '3. Widowed')]['wage'].mean()"
   ]
  },
  {
   "cell_type": "code",
   "execution_count": 715,
   "metadata": {
    "collapsed": false
   },
   "outputs": [
    {
     "data": {
      "text/plain": [
       "109.9"
      ]
     },
     "execution_count": 715,
     "metadata": {},
     "output_type": "execute_result"
    }
   ],
   "source": [
    "27.6 + 82.3"
   ]
  },
  {
   "cell_type": "code",
   "execution_count": 719,
   "metadata": {
    "collapsed": false
   },
   "outputs": [],
   "source": [
    "X = pd.get_dummies(wage['maritl'] + ' ' + wage['jobclass'])\n",
    "y = wage['wage']"
   ]
  },
  {
   "cell_type": "code",
   "execution_count": 726,
   "metadata": {
    "collapsed": false
   },
   "outputs": [
    {
     "data": {
      "text/html": [
       "<table class=\"simpletable\">\n",
       "<caption>OLS Regression Results</caption>\n",
       "<tr>\n",
       "  <th>Dep. Variable:</th>          <td>wage</td>       <th>  R-squared:         </th> <td>   0.110</td> \n",
       "</tr>\n",
       "<tr>\n",
       "  <th>Model:</th>                   <td>OLS</td>       <th>  Adj. R-squared:    </th> <td>   0.107</td> \n",
       "</tr>\n",
       "<tr>\n",
       "  <th>Method:</th>             <td>Least Squares</td>  <th>  F-statistic:       </th> <td>   40.91</td> \n",
       "</tr>\n",
       "<tr>\n",
       "  <th>Date:</th>             <td>Wed, 14 Sep 2016</td> <th>  Prob (F-statistic):</th> <td>1.97e-69</td> \n",
       "</tr>\n",
       "<tr>\n",
       "  <th>Time:</th>                 <td>08:10:20</td>     <th>  Log-Likelihood:    </th> <td> -15276.</td> \n",
       "</tr>\n",
       "<tr>\n",
       "  <th>No. Observations:</th>      <td>  3000</td>      <th>  AIC:               </th> <td>3.057e+04</td>\n",
       "</tr>\n",
       "<tr>\n",
       "  <th>Df Residuals:</th>          <td>  2990</td>      <th>  BIC:               </th> <td>3.063e+04</td>\n",
       "</tr>\n",
       "<tr>\n",
       "  <th>Df Model:</th>              <td>     9</td>      <th>                     </th>     <td> </td>    \n",
       "</tr>\n",
       "<tr>\n",
       "  <th>Covariance Type:</th>      <td>nonrobust</td>    <th>                     </th>     <td> </td>    \n",
       "</tr>\n",
       "</table>\n",
       "<table class=\"simpletable\">\n",
       "<tr>\n",
       "                 <td></td>                    <th>coef</th>     <th>std err</th>      <th>t</th>      <th>P>|t|</th> <th>[95.0% Conf. Int.]</th> \n",
       "</tr>\n",
       "<tr>\n",
       "  <th>1. Never Married 1. Industrial</th>  <td>   84.6314</td> <td>    2.087</td> <td>   40.551</td> <td> 0.000</td> <td>   80.539    88.724</td>\n",
       "</tr>\n",
       "<tr>\n",
       "  <th>1. Never Married 2. Information</th> <td>  102.6758</td> <td>    2.312</td> <td>   44.417</td> <td> 0.000</td> <td>   98.143   107.208</td>\n",
       "</tr>\n",
       "<tr>\n",
       "  <th>2. Married 1. Industrial</th>        <td>  110.5215</td> <td>    1.219</td> <td>   90.645</td> <td> 0.000</td> <td>  108.131   112.912</td>\n",
       "</tr>\n",
       "<tr>\n",
       "  <th>2. Married 2. Information</th>       <td>  127.3450</td> <td>    1.230</td> <td>  103.541</td> <td> 0.000</td> <td>  124.933   129.757</td>\n",
       "</tr>\n",
       "<tr>\n",
       "  <th>3. Widowed 1. Industrial</th>        <td>  100.9559</td> <td>   11.384</td> <td>    8.869</td> <td> 0.000</td> <td>   78.636   123.276</td>\n",
       "</tr>\n",
       "<tr>\n",
       "  <th>3. Widowed 2. Information</th>       <td>   97.1091</td> <td>   14.905</td> <td>    6.515</td> <td> 0.000</td> <td>   67.885   126.333</td>\n",
       "</tr>\n",
       "<tr>\n",
       "  <th>4. Divorced 1. Industrial</th>       <td>   96.1082</td> <td>    3.886</td> <td>   24.735</td> <td> 0.000</td> <td>   88.490   103.727</td>\n",
       "</tr>\n",
       "<tr>\n",
       "  <th>4. Divorced 2. Information</th>      <td>  110.3500</td> <td>    3.924</td> <td>   28.123</td> <td> 0.000</td> <td>  102.656   118.044</td>\n",
       "</tr>\n",
       "<tr>\n",
       "  <th>5. Separated 1. Industrial</th>      <td>   99.9341</td> <td>    7.734</td> <td>   12.922</td> <td> 0.000</td> <td>   84.770   115.098</td>\n",
       "</tr>\n",
       "<tr>\n",
       "  <th>5. Separated 2. Information</th>     <td>  102.3649</td> <td>    7.323</td> <td>   13.979</td> <td> 0.000</td> <td>   88.007   116.723</td>\n",
       "</tr>\n",
       "</table>\n",
       "<table class=\"simpletable\">\n",
       "<tr>\n",
       "  <th>Omnibus:</th>       <td>1050.722</td> <th>  Durbin-Watson:     </th> <td>   1.964</td>\n",
       "</tr>\n",
       "<tr>\n",
       "  <th>Prob(Omnibus):</th>  <td> 0.000</td>  <th>  Jarque-Bera (JB):  </th> <td>4572.814</td>\n",
       "</tr>\n",
       "<tr>\n",
       "  <th>Skew:</th>           <td> 1.654</td>  <th>  Prob(JB):          </th> <td>    0.00</td>\n",
       "</tr>\n",
       "<tr>\n",
       "  <th>Kurtosis:</th>       <td> 8.064</td>  <th>  Cond. No.          </th> <td>    12.2</td>\n",
       "</tr>\n",
       "</table>"
      ],
      "text/plain": [
       "<class 'statsmodels.iolib.summary.Summary'>\n",
       "\"\"\"\n",
       "                            OLS Regression Results                            \n",
       "==============================================================================\n",
       "Dep. Variable:                   wage   R-squared:                       0.110\n",
       "Model:                            OLS   Adj. R-squared:                  0.107\n",
       "Method:                 Least Squares   F-statistic:                     40.91\n",
       "Date:                Wed, 14 Sep 2016   Prob (F-statistic):           1.97e-69\n",
       "Time:                        08:10:20   Log-Likelihood:                -15276.\n",
       "No. Observations:                3000   AIC:                         3.057e+04\n",
       "Df Residuals:                    2990   BIC:                         3.063e+04\n",
       "Df Model:                           9                                         \n",
       "Covariance Type:            nonrobust                                         \n",
       "===================================================================================================\n",
       "                                      coef    std err          t      P>|t|      [95.0% Conf. Int.]\n",
       "---------------------------------------------------------------------------------------------------\n",
       "1. Never Married 1. Industrial     84.6314      2.087     40.551      0.000        80.539    88.724\n",
       "1. Never Married 2. Information   102.6758      2.312     44.417      0.000        98.143   107.208\n",
       "2. Married 1. Industrial          110.5215      1.219     90.645      0.000       108.131   112.912\n",
       "2. Married 2. Information         127.3450      1.230    103.541      0.000       124.933   129.757\n",
       "3. Widowed 1. Industrial          100.9559     11.384      8.869      0.000        78.636   123.276\n",
       "3. Widowed 2. Information          97.1091     14.905      6.515      0.000        67.885   126.333\n",
       "4. Divorced 1. Industrial          96.1082      3.886     24.735      0.000        88.490   103.727\n",
       "4. Divorced 2. Information        110.3500      3.924     28.123      0.000       102.656   118.044\n",
       "5. Separated 1. Industrial         99.9341      7.734     12.922      0.000        84.770   115.098\n",
       "5. Separated 2. Information       102.3649      7.323     13.979      0.000        88.007   116.723\n",
       "==============================================================================\n",
       "Omnibus:                     1050.722   Durbin-Watson:                   1.964\n",
       "Prob(Omnibus):                  0.000   Jarque-Bera (JB):             4572.814\n",
       "Skew:                           1.654   Prob(JB):                         0.00\n",
       "Kurtosis:                       8.064   Cond. No.                         12.2\n",
       "==============================================================================\n",
       "\n",
       "Warnings:\n",
       "[1] Standard Errors assume that the covariance matrix of the errors is correctly specified.\n",
       "\"\"\""
      ]
     },
     "execution_count": 726,
     "metadata": {},
     "output_type": "execute_result"
    }
   ],
   "source": [
    "results = smf.OLS(y, X).fit()\n",
    "results.summary()"
   ]
  },
  {
   "cell_type": "code",
   "execution_count": 725,
   "metadata": {
    "collapsed": false
   },
   "outputs": [
    {
     "data": {
      "text/plain": [
       "97.10906713345983"
      ]
     },
     "execution_count": 725,
     "metadata": {},
     "output_type": "execute_result"
    }
   ],
   "source": [
    "wage[(wage['jobclass'] == '2. Information') & (wage['maritl'] == '3. Widowed')]['wage'].mean()"
   ]
  },
  {
   "cell_type": "code",
   "execution_count": 742,
   "metadata": {
    "collapsed": false
   },
   "outputs": [
    {
     "data": {
      "text/plain": [
       "array([ 110.3499553])"
      ]
     },
     "execution_count": 742,
     "metadata": {},
     "output_type": "execute_result"
    }
   ],
   "source": [
    "results.predict([0, 0, 0, 0, 0, 0, 0, 1, 0, 0])"
   ]
  },
  {
   "cell_type": "code",
   "execution_count": 743,
   "metadata": {
    "collapsed": false
   },
   "outputs": [
    {
     "data": {
      "text/plain": [
       "array([ 94.9786814])"
      ]
     },
     "execution_count": 743,
     "metadata": {},
     "output_type": "execute_result"
    }
   ],
   "source": [
    "results_orig.predict([0, 0, 0, 1, 0, 1, 0])"
   ]
  },
  {
   "cell_type": "code",
   "execution_count": null,
   "metadata": {
    "collapsed": true
   },
   "outputs": [],
   "source": []
  }
 ],
 "metadata": {
  "anaconda-cloud": {},
  "kernelspec": {
   "display_name": "Python [Root]",
   "language": "python",
   "name": "Python [Root]"
  },
  "language_info": {
   "codemirror_mode": {
    "name": "ipython",
    "version": 3
   },
   "file_extension": ".py",
   "mimetype": "text/x-python",
   "name": "python",
   "nbconvert_exporter": "python",
   "pygments_lexer": "ipython3",
   "version": "3.5.2"
  }
 },
 "nbformat": 4,
 "nbformat_minor": 0
}
